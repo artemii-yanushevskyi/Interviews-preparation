{
 "cells": [
  {
   "cell_type": "code",
   "execution_count": 121,
   "metadata": {},
   "outputs": [],
   "source": [
    "import numpy as np\n",
    "import matplotlib.pyplot as plt"
   ]
  },
  {
   "cell_type": "markdown",
   "metadata": {},
   "source": [
    "Input layer takes 3 values. Input layer passes these values to the hidden layer of 4 neurons."
   ]
  },
  {
   "cell_type": "markdown",
   "metadata": {},
   "source": [
    "## Single step"
   ]
  },
  {
   "cell_type": "code",
   "execution_count": 30,
   "metadata": {},
   "outputs": [
    {
     "name": "stdout",
     "output_type": "stream",
     "text": [
      "[ 2  4 11] \n",
      "\n",
      " [[ 2  4 11]] \n",
      "\n",
      " [[ 2]\n",
      " [ 4]\n",
      " [11]]\n"
     ]
    }
   ],
   "source": [
    "input_vector = np.array([2, 4, 11])\n",
    "input_vector_row = input_vector[None,:]\n",
    "input_vector_column = input_vector[:,None]\n",
    "print(input_vector, \"\\n\\n\", input_vector_row, \"\\n\\n\", input_vector_column)"
   ]
  },
  {
   "cell_type": "code",
   "execution_count": 201,
   "metadata": {},
   "outputs": [
    {
     "name": "stdout",
     "output_type": "stream",
     "text": [
      "[0.04742587 0.98201379] [0.04742587 0.98201379] sigma and expit are the same functions\n"
     ]
    },
    {
     "data": {
      "image/png": "[encoded data removed]",
      "text/plain": [
       "<Figure size 432x288 with 1 Axes>"
      ]
     },
     "metadata": {},
     "output_type": "display_data"
    }
   ],
   "source": [
    "from scipy.special import expit as activation_function\n",
    "\n",
    "@np.vectorize\n",
    "def sigma(x):\n",
    "    return 1 / (1 + np.e ** -x)\n",
    "\n",
    "print(sigma([-3,4]), activation_function([-3,4]), 'sigma and expit are the same functions')\n",
    "\n",
    "X = np.linspace(-5, 5, 100)\n",
    "plt.plot(X, sigma(X),'g')\n",
    "plt.xlabel('X Axis')\n",
    "plt.ylabel('Y Axis')\n",
    "plt.title('Sigmoid Function')\n",
    "plt.grid()\n",
    "plt.text(4, 0.8, r'$\\sigma(x)=\\frac{1}{1+e^{-x}}$', fontsize=20)\n",
    "plt.show()\n"
   ]
  },
  {
   "cell_type": "code",
   "execution_count": 161,
   "metadata": {},
   "outputs": [
    {
     "data": {
      "text/plain": [
       "[0.04742587317756678, 0.9820137900379085]"
      ]
     },
     "execution_count": 161,
     "metadata": {},
     "output_type": "execute_result"
    }
   ],
   "source": []
  },
  {
   "cell_type": "markdown",
   "metadata": {},
   "source": [
    "### Forward"
   ]
  },
  {
   "cell_type": "code",
   "execution_count": 62,
   "metadata": {},
   "outputs": [],
   "source": [
    "input_vector_column = np.array([4, 4, 11])[:,None]"
   ]
  },
  {
   "cell_type": "code",
   "execution_count": 63,
   "metadata": {},
   "outputs": [
    {
     "data": {
      "text/plain": [
       "array([[10.07],\n",
       "       [ 8.75],\n",
       "       [10.34],\n",
       "       [ 9.41]])"
      ]
     },
     "execution_count": 63,
     "metadata": {},
     "output_type": "execute_result"
    }
   ],
   "source": [
    "W1 = (np.random.binomial(100, 0.5, 12)/100).reshape((4,3))\n",
    "layer1_vector = np.dot(W1,input_vector_column)\n",
    "layer1_vector"
   ]
  },
  {
   "cell_type": "code",
   "execution_count": 64,
   "metadata": {},
   "outputs": [
    {
     "data": {
      "text/plain": [
       "array([[18.3269],\n",
       "       [19.4297]])"
      ]
     },
     "execution_count": 64,
     "metadata": {},
     "output_type": "execute_result"
    }
   ],
   "source": [
    "W2 = (np.random.binomial(100, 0.5, 8)/100).reshape((2,4))\n",
    "layer2_vector = np.dot(W2,layer1_vector)\n",
    "layer2_vector"
   ]
  },
  {
   "cell_type": "code",
   "execution_count": 190,
   "metadata": {},
   "outputs": [],
   "source": [
    "import numpy as np\n",
    "from scipy.special import expit as activation_function\n",
    "from scipy.stats import truncnorm\n",
    "def truncated_normal(mean=0, sd=1, low=0, upp=10):\n",
    "    return truncnorm(\n",
    "        (low - mean) / sd, (upp - mean) / sd, loc=mean, scale=sd)\n",
    "\n",
    "class NeuralNetwork:\n",
    "           \n",
    "    def __init__(self, \n",
    "                 no_of_in_nodes, \n",
    "                 no_of_out_nodes, \n",
    "                 no_of_hidden_nodes,\n",
    "                 learning_rate):\n",
    "        self.no_of_in_nodes = no_of_in_nodes\n",
    "        self.no_of_out_nodes = no_of_out_nodes\n",
    "        self.no_of_hidden_nodes = no_of_hidden_nodes\n",
    "        self.learning_rate = learning_rate \n",
    "        self.create_weight_matrices()\n",
    "        \n",
    "    def create_weight_matrices(self):\n",
    "        \"\"\" A method to initialize the weight matrices of the neural network\"\"\"\n",
    "        rad = 1 / np.sqrt(self.no_of_in_nodes)\n",
    "        X = truncated_normal(mean=0, sd=1, low=-rad, upp=rad)\n",
    "        self.weights_in_hidden = X.rvs((self.no_of_hidden_nodes, \n",
    "                                       self.no_of_in_nodes))\n",
    "        \n",
    "        rad = 1 / np.sqrt(self.no_of_hidden_nodes)\n",
    "        X = truncated_normal(mean=0, sd=1, low=-rad, upp=rad)\n",
    "        self.weights_hidden_out = X.rvs((self.no_of_out_nodes, \n",
    "                                        self.no_of_hidden_nodes))\n",
    "    \n",
    "    \n",
    "    def train(self, input_vector, target_vector):\n",
    "        # input_vector and target_vector can be tuple, list or ndarray\n",
    "        \n",
    "        input_vector = np.array(input_vector, ndmin=2).T\n",
    "        target_vector = np.array(target_vector, ndmin=2).T\n",
    "        \n",
    "        output_vector1 = np.dot(self.weights_in_hidden, input_vector)\n",
    "        output_vector_hidden = activation_function(output_vector1)\n",
    "        \n",
    "        output_vector2 = np.dot(self.weights_hidden_out, output_vector_hidden)\n",
    "        output_vector_network = activation_function(output_vector2)\n",
    "        \n",
    "        output_errors = target_vector - output_vector_network\n",
    "        \n",
    "        # update the weights:\n",
    "        tmp = output_errors * output_vector_network * (1.0 - output_vector_network)     \n",
    "        tmp = self.learning_rate  * np.dot(tmp, output_vector_hidden.T)\n",
    "        self.weights_hidden_out += tmp\n",
    "        # calculate hidden errors:\n",
    "        hidden_errors = np.dot(self.weights_hidden_out.T, output_errors)\n",
    "        # update the weights:\n",
    "        tmp = hidden_errors * output_vector_hidden * (1.0 - output_vector_hidden)\n",
    "        self.weights_in_hidden += self.learning_rate * np.dot(tmp, input_vector.T)\n",
    "    \n",
    "    def run(self, input_vector):\n",
    "        \"\"\"\n",
    "        running the network with an input vector input_vector. \n",
    "        input_vector can be tuple, list or ndarray\n",
    "        \"\"\"\n",
    "        \n",
    "        # turning the input vector into a column vector\n",
    "        input_vector = np.array(input_vector, ndmin=2).T\n",
    "        output_vector = np.dot(self.weights_in_hidden, input_vector)\n",
    "        output_vector = activation_function(output_vector)\n",
    "        \n",
    "        output_vector = np.dot(self.weights_hidden_out, output_vector)\n",
    "        output_vector = activation_function(output_vector)\n",
    "    \n",
    "        return output_vector"
   ]
  },
  {
   "cell_type": "code",
   "execution_count": 197,
   "metadata": {},
   "outputs": [],
   "source": [
    "n = NeuralNetwork(3,2,4,0.1) # in nodes, out nodes, nodes in hidden layer, learning rate"
   ]
  },
  {
   "cell_type": "code",
   "execution_count": 202,
   "metadata": {},
   "outputs": [
    {
     "data": {
      "text/plain": [
       "array([[0.42822447],\n",
       "       [0.47571285]])"
      ]
     },
     "execution_count": 202,
     "metadata": {},
     "output_type": "execute_result"
    }
   ],
   "source": [
    "n.run([3,5,762])"
   ]
  },
  {
   "cell_type": "code",
   "execution_count": 203,
   "metadata": {},
   "outputs": [
    {
     "data": {
      "image/png": "[encoded data removed]",
      "text/plain": [
       "<Figure size 432x288 with 1 Axes>"
      ]
     },
     "metadata": {},
     "output_type": "display_data"
    }
   ],
   "source": [
    "data1 = [((3, 4), (0.99, 0.01)), ((4.2, 5.3), (0.99, 0.01)), \n",
    "         ((4, 3), (0.99, 0.01)), ((6, 5), (0.99, 0.01)), \n",
    "         ((4, 6), (0.99, 0.01)), ((3.7, 5.8), (0.99, 0.01)), \n",
    "         ((3.2, 4.6), (0.99, 0.01)), ((5.2, 5.9), (0.99, 0.01)), \n",
    "         ((5, 4), (0.99, 0.01)), ((7, 4), (0.99, 0.01)), \n",
    "         ((3, 7), (0.99, 0.01)), ((4.3, 4.3), (0.99, 0.01))]\n",
    "data2 = [((-3, -4), (0.01, 0.99)), ((-2, -3.5), (0.01, 0.99)), \n",
    "         ((-1, -6), (0.01, 0.99)), ((-3, -4.3), (0.01, 0.99)), \n",
    "         ((-4, -5.6), (0.01, 0.99)), ((-3.2, -4.8), (0.01, 0.99)), \n",
    "         ((-2.3, -4.3), (0.01, 0.99)), ((-2.7, -2.6), (0.01, 0.99)), \n",
    "         ((-1.5, -3.6), (0.01, 0.99)), ((-3.6, -5.6), (0.01, 0.99)), \n",
    "         ((-4.5, -4.6), (0.01, 0.99)), ((-3.7, -5.8), (0.01, 0.99))]\n",
    "data = data1 + data2\n",
    "np.random.shuffle(data)\n",
    "points1, labels1 = zip(*data1)\n",
    "X, Y = zip(*points1)\n",
    "plt.scatter(X, Y, c=\"r\")\n",
    "points2, labels2 = zip(*data2)\n",
    "X, Y = zip(*points2)\n",
    "plt.scatter(X, Y, c=\"b\")\n",
    "plt.show()"
   ]
  },
  {
   "cell_type": "code",
   "execution_count": 223,
   "metadata": {},
   "outputs": [
    {
     "name": "stdout",
     "output_type": "stream",
     "text": [
      "(-3.6, -5.6) [0.34354213] [0.64135166]: class1 correct (0.01, 0.99)\n",
      "(-1.5, -3.6) [0.35182722] [0.63362899]: class1 correct (0.01, 0.99)\n",
      "(4.2, 5.3) [0.45512589] [0.51621247]: class2 incorrect (0.99, 0.01)\n",
      "(5.2, 5.9) [0.45561275] [0.51574307]: class2 incorrect (0.99, 0.01)\n",
      "(4, 6) [0.45957625] [0.51455412]: class2 incorrect (0.99, 0.01)\n",
      "(-3, -4.3) [0.34920249] [0.63836085]: class1 correct (0.01, 0.99)\n",
      "(-2.7, -2.6) [0.35962767] [0.63210211]: class1 correct (0.01, 0.99)\n",
      "(4, 3) [0.44151181] [0.52219154]: class2 incorrect (0.99, 0.01)\n",
      "(3, 7) [0.46723737] [0.51193036]: class2 incorrect (0.99, 0.01)\n",
      "(-3.7, -5.8) [0.34277773] [0.64170853]: class1 correct (0.01, 0.99)\n",
      "(-2.3, -4.3) [0.34795195] [0.63796571]: class1 correct (0.01, 0.99)\n",
      "(3.7, 5.8) [0.45928999] [0.51478704]: class2 incorrect (0.99, 0.01)\n",
      "(-3.2, -4.8) [0.34682002] [0.63967804]: class1 correct (0.01, 0.99)\n",
      "(-1, -6) [0.33682788] [0.64193317]: class1 correct (0.01, 0.99)\n",
      "(3.2, 4.6) [0.45364316] [0.51753118]: class2 incorrect (0.99, 0.01)\n",
      "(-4.5, -4.6) [0.35110197] [0.63871562]: class1 correct (0.01, 0.99)\n",
      "(-4, -5.6) [0.34451694] [0.6411326]: class1 correct (0.01, 0.99)\n",
      "(6, 5) [0.44799264] [0.51841324]: class2 incorrect (0.99, 0.01)\n",
      "(-2, -3.5) [0.35273716] [0.63450189]: class1 correct (0.01, 0.99)\n",
      "(3, 4) [0.45033217] [0.5193453]: class2 incorrect (0.99, 0.01)\n",
      "(-3, -4) [0.35096215] [0.63750072]: class1 correct (0.01, 0.99)\n"
     ]
    }
   ],
   "source": [
    "simple_network = NeuralNetwork(no_of_in_nodes=2, \n",
    "                               no_of_out_nodes=2, \n",
    "                               no_of_hidden_nodes=2,\n",
    "                               learning_rate=0.6)\n",
    "    \n",
    "size_of_learn_sample = int(len(data)*0.9)\n",
    "learn_data = data[:size_of_learn_sample]\n",
    "test_data = data[-size_of_learn_sample:]\n",
    "\n",
    "for i in range(size_of_learn_sample):\n",
    "    point, label = learn_data[i][0], learn_data[i][1]\n",
    "    simple_network.train(point, label)\n",
    "    \n",
    "for i in range(size_of_learn_sample):\n",
    "    point, label = learn_data[i][0], learn_data[i][1]\n",
    "    cls1, cls2 =simple_network.run(point)\n",
    "    print(point, cls1, cls2, end=\": \")\n",
    "    if cls1 > cls2:\n",
    "        if label == (0.99, 0.01):\n",
    "            print(\"class1 correct\", label)\n",
    "        else:\n",
    "            print(\"class2 incorrect\", label)\n",
    "    else:\n",
    "        if label == (0.01, 0.99):\n",
    "            print(\"class1 correct\", label)\n",
    "        else:\n",
    "            print(\"class2 incorrect\", label)"
   ]
  },
  {
   "cell_type": "code",
   "execution_count": null,
   "metadata": {},
   "outputs": [],
   "source": []
  }
 ],
 "metadata": {
  "kernelspec": {
   "display_name": "Python 3",
   "language": "python",
   "name": "python3"
  },
  "language_info": {
   "codemirror_mode": {
    "name": "ipython",
    "version": 3
   },
   "file_extension": ".py",
   "mimetype": "text/x-python",
   "name": "python",
   "nbconvert_exporter": "python",
   "pygments_lexer": "ipython3",
   "version": "3.6.5"
  }
 },
 "nbformat": 4,
 "nbformat_minor": 2
}
